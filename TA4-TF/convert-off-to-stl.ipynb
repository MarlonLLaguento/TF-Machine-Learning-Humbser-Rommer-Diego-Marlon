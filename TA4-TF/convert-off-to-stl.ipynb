{
 "cells": [
  {
   "cell_type": "code",
   "execution_count": null,
   "metadata": {},
   "outputs": [],
   "source": [
    "#importación de librerías necesarias\n",
    "import math\n",
    "import numpy as np\n",
    "import plotly.graph_objs as go\n",
    "from plotly.offline import init_notebook_mode, iplot\n",
    "import trimesh\n",
    "import os\n",
    "import pathlib\n",
    "import stltovoxel"
   ]
  },
  {
   "cell_type": "code",
   "execution_count": null,
   "metadata": {},
   "outputs": [],
   "source": [
    "data_path_off = 'bed/test/'\n",
    "directorio = pathlib.Path(data_path_off)\n",
    "\n",
    "# Directorio de salida para los archivos STL\n",
    "directorio_salida = \"Dataset-bed-stl-test/\"\n",
    "os.makedirs(directorio_salida, exist_ok=True)  # Crea el directorio si no existe\n",
    "\n",
    "for a, file in enumerate(directorio.iterdir(), start=1):\n",
    "    if file.suffix == '.off':\n",
    "        archivo_off = file\n",
    "        malla = trimesh.load(archivo_off)\n",
    "        \n",
    "        # Modificar el nombre del archivo STL\n",
    "        archivo_stl = f\"{archivo_off.stem}.stl\"\n",
    "        \n",
    "        # Exportar el archivo STL al directorio de salida\n",
    "        ruta_salida = os.path.join(directorio_salida, archivo_stl)\n",
    "        malla.export(ruta_salida, file_type=\"stl\")"
   ]
  }
 ],
 "metadata": {
  "language_info": {
   "name": "python"
  }
 },
 "nbformat": 4,
 "nbformat_minor": 2
}
